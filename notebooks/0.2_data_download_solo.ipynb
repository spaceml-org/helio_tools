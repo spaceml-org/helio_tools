{
 "cells": [
  {
   "cell_type": "markdown",
   "id": "9c9b2b91-e7d0-4ca4-800b-e617e8823eec",
   "metadata": {},
   "source": [
    "# Demo: Data Download SOLO\n"
   ]
  },
  {
   "cell_type": "code",
   "execution_count": 14,
   "id": "87b0d7f7-66aa-4d00-a595-ea34e4fd9b29",
   "metadata": {
    "tags": []
   },
   "outputs": [
    {
     "name": "stdout",
     "output_type": "stream",
     "text": [
      "The autoreload extension is already loaded. To reload it, use:\n",
      "  %reload_ext autoreload\n"
     ]
    }
   ],
   "source": [
    "import autoroot\n",
    "from typing import Optional, Callable\n",
    "import toolz \n",
    "import functools as ft\n",
    "\n",
    "import numpy as np\n",
    "import pandas as pd\n",
    "import matplotlib.pyplot as plt\n",
    "from loguru import logger\n",
    "%matplotlib inline\n",
    "%load_ext autoreload\n",
    "%autoreload 2"
   ]
  },
  {
   "cell_type": "code",
   "execution_count": 15,
   "id": "d3020752-6a78-4dae-a5e3-8c67e0820a6a",
   "metadata": {
    "tags": []
   },
   "outputs": [],
   "source": [
    "import astropy\n",
    "from datetime import timedelta, datetime\n",
    "from dateutil.relativedelta import relativedelta\n",
    "from sunpy.map import Map\n",
    "from sunpy.net import Fido, attrs as a\n"
   ]
  },
  {
   "cell_type": "code",
   "execution_count": 16,
   "id": "6f298f26-33c5-4f99-a06a-5e3568e2ebb4",
   "metadata": {
    "tags": []
   },
   "outputs": [],
   "source": [
    "from helio_tools._src.data.solo.base import SOLODownloader, download_solo_data\n",
    "from helio_tools._src.utils.time import check_datetime_format"
   ]
  },
  {
   "cell_type": "code",
   "execution_count": 19,
   "metadata": {},
   "outputs": [
    {
     "name": "stderr",
     "output_type": "stream",
     "text": [
      "\u001b[32m2023-12-18 12:04:59.694\u001b[0m | \u001b[1mINFO    \u001b[0m | \u001b[36m__main__\u001b[0m:\u001b[36m<module>\u001b[0m:\u001b[36m10\u001b[0m - \u001b[1mPeriod: 2021-02-22 00:00 --- 2021-06-25 00:00\u001b[0m\n"
     ]
    }
   ],
   "source": [
    "import os\n",
    "\n",
    "# make base path a data folder in this repo\n",
    "base_path = os.getcwd() + \"/solo_data\"\n",
    "\n",
    "start_date = \"2021-02-22 00:00\"\n",
    "end_date = \"2021-06-25 00:00\"\n",
    "\n",
    "\n",
    "logger.info(f\"Period: {start_date} --- {end_date}\")"
   ]
  },
  {
   "cell_type": "code",
   "execution_count": 20,
   "metadata": {},
   "outputs": [
    {
     "name": "stderr",
     "output_type": "stream",
     "text": [
      "\u001b[32m2023-12-18 12:05:01.867\u001b[0m | \u001b[1mINFO    \u001b[0m | \u001b[36mhelio_tools._src.data.solo.base\u001b[0m:\u001b[36mdownload_solo_data\u001b[0m:\u001b[36m197\u001b[0m - \u001b[1mPeriod: 2021-02-22 00:00:00 --- 2021-06-25 00:00:00\u001b[0m\n",
      "\u001b[32m2023-12-18 12:05:01.868\u001b[0m | \u001b[1mINFO    \u001b[0m | \u001b[36mhelio_tools._src.data.solo.base\u001b[0m:\u001b[36mdownload_solo_data\u001b[0m:\u001b[36m203\u001b[0m - \u001b[1mBasePath: /home/juanjohn/projects/helio_tools/notebooks/solo_data\u001b[0m\n",
      "\u001b[32m2023-12-18 12:05:01.869\u001b[0m | \u001b[1mINFO    \u001b[0m | \u001b[36mhelio_tools._src.data.solo.base\u001b[0m:\u001b[36mdownload_solo_data\u001b[0m:\u001b[36m206\u001b[0m - \u001b[1mNumber of Months: 4\u001b[0m\n",
      "\u001b[32m2023-12-18 12:05:01.869\u001b[0m | \u001b[1mINFO    \u001b[0m | \u001b[36mhelio_tools._src.data.solo.base\u001b[0m:\u001b[36mdownload_solo_data\u001b[0m:\u001b[36m208\u001b[0m - \u001b[1mNumber of Month Dates: 4\u001b[0m\n",
      "Date: 2021-02-22 00:00:00:   0%|          | 0/4 [00:00<?, ?it/s]"
     ]
    },
    {
     "name": "stderr",
     "output_type": "stream",
     "text": [
      "ERROR:root:Unable to download 2021-02-22T23:53:12.211000: No valid file found for 2021-02-22T23:53:12.211000 (eui-fsi304-image)!\n",
      "ERROR:root:Unable to download 2021-02-22T23:38:12.210000: No valid file found for 2021-02-22T23:38:12.210000 (eui-fsi304-image)!\n"
     ]
    }
   ],
   "source": [
    "download_solo_data(start_date=start_date, end_date=end_date, base_path=base_path)"
   ]
  },
  {
   "cell_type": "code",
   "execution_count": 13,
   "id": "75da6dba-57a3-47ee-bb60-8c81e1524549",
   "metadata": {
    "tags": []
   },
   "outputs": [
    {
     "data": {
      "text/plain": [
       "0"
      ]
     },
     "execution_count": 13,
     "metadata": {},
     "output_type": "execute_result"
    }
   ],
   "source": [
    "from helio_tools._src.utils.io import get_list_filenames\n",
    "\n",
    "ext = \".fits\"\n",
    "\n",
    "data_filenames = get_list_filenames(base_path, ext)\n",
    "len(data_filenames)"
   ]
  },
  {
   "cell_type": "code",
   "execution_count": null,
   "id": "8ae6d346-62a9-4012-9077-19cc0f805ac3",
   "metadata": {},
   "outputs": [],
   "source": []
  }
 ],
 "metadata": {
  "kernelspec": {
   "display_name": "helio_tools",
   "language": "python",
   "name": "python3"
  },
  "language_info": {
   "codemirror_mode": {
    "name": "ipython",
    "version": 3
   },
   "file_extension": ".py",
   "mimetype": "text/x-python",
   "name": "python",
   "nbconvert_exporter": "python",
   "pygments_lexer": "ipython3",
   "version": "3.10.13"
  }
 },
 "nbformat": 4,
 "nbformat_minor": 5
}
