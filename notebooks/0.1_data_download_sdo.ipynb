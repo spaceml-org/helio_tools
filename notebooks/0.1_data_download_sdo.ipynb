{
 "cells": [
  {
   "cell_type": "markdown",
   "id": "9c9b2b91-e7d0-4ca4-800b-e617e8823eec",
   "metadata": {},
   "source": [
    "# Demo: Data Download SDO"
   ]
  },
  {
   "cell_type": "code",
   "execution_count": 5,
   "id": "d3020752-6a78-4dae-a5e3-8c67e0820a6a",
   "metadata": {
    "tags": []
   },
   "outputs": [
    {
     "name": "stdout",
     "output_type": "stream",
     "text": [
      "The autoreload extension is already loaded. To reload it, use:\n",
      "  %reload_ext autoreload\n"
     ]
    }
   ],
   "source": [
    "import autoroot\n",
    "from datetime import datetime\n",
    "from helio_tools._src.data.sdo.base import download_sdo_data\n",
    "import os\n",
    "from datetime import timedelta, datetime\n",
    "from tqdm.autonotebook import tqdm\n",
    "from helio_tools._src.utils.time import check_datetime_format\n",
    "\n",
    "%load_ext autoreload\n",
    "%autoreload 2"
   ]
  },
  {
   "cell_type": "code",
   "execution_count": 6,
   "id": "2f3875ac-d1ce-4113-be45-7dd54f42ac1a",
   "metadata": {},
   "outputs": [],
   "source": [
    "email = os.getenv(\"SDO_EMAIL\")\n",
    "base_path = os.getcwd() + \"/sdo-data\"\n",
    "n_workers = 8\n",
    "\n",
    "start_date = \"2023-01-01\"\n",
    "end_date = \"2023-01-02\""
   ]
  },
  {
   "cell_type": "code",
   "execution_count": 7,
   "metadata": {},
   "outputs": [
    {
     "name": "stderr",
     "output_type": "stream",
     "text": [
      "\u001b[32m2023-12-18 11:55:03.092\u001b[0m | \u001b[1mINFO    \u001b[0m | \u001b[36mhelio_tools._src.data.sdo.base\u001b[0m:\u001b[36mdownload_sdo_data\u001b[0m:\u001b[36m213\u001b[0m - \u001b[1mBasePath: /home/juanjohn/projects/helio_tools/notebooks/sdo-data\u001b[0m\n",
      "\u001b[32m2023-12-18 11:55:03.094\u001b[0m | \u001b[1mINFO    \u001b[0m | \u001b[36mhelio_tools._src.data.sdo.base\u001b[0m:\u001b[36mdownload_sdo_data\u001b[0m:\u001b[36m219\u001b[0m - \u001b[1mPeriod: 2023-01-01 00:00:00-2023-01-02 00:00:00\u001b[0m\n",
      "\u001b[32m2023-12-18 11:55:03.094\u001b[0m | \u001b[1mINFO    \u001b[0m | \u001b[36mhelio_tools._src.data.sdo.base\u001b[0m:\u001b[36mdownload_sdo_data\u001b[0m:\u001b[36m223\u001b[0m - \u001b[1mEmail: chri.schirni@hotmail.de\u001b[0m\n"
     ]
    },
    {
     "name": "stderr",
     "output_type": "stream",
     "text": [
      "Date: 2023-01-01 12:00:00: 100%|██████████| 2/2 [00:06<00:00,  3.35s/it]\n"
     ]
    }
   ],
   "source": [
    "download_sdo_data(\n",
    "    email=email,\n",
    "    start_date=start_date, end_date=end_date,\n",
    "    base_path=base_path, n_workers=n_workers\n",
    ")"
   ]
  },
  {
   "cell_type": "code",
   "execution_count": 8,
   "id": "75da6dba-57a3-47ee-bb60-8c81e1524549",
   "metadata": {
    "tags": []
   },
   "outputs": [
    {
     "name": "stdout",
     "output_type": "stream",
     "text": [
      "Number of files downloaded:  80\n"
     ]
    }
   ],
   "source": [
    "from helio_tools._src.utils.io import get_list_filenames\n",
    "\n",
    "ext = \".fits\"\n",
    "\n",
    "data_filenames = get_list_filenames(base_path, ext)\n",
    "# Confirm that data has been downloaded\n",
    "\n",
    "print(\"Number of files downloaded: \", len(data_filenames))  "
   ]
  }
 ],
 "metadata": {
  "kernelspec": {
   "display_name": "helio_tools",
   "language": "python",
   "name": "python3"
  },
  "language_info": {
   "codemirror_mode": {
    "name": "ipython",
    "version": 3
   },
   "file_extension": ".py",
   "mimetype": "text/x-python",
   "name": "python",
   "nbconvert_exporter": "python",
   "pygments_lexer": "ipython3",
   "version": "3.10.13"
  }
 },
 "nbformat": 4,
 "nbformat_minor": 5
}
